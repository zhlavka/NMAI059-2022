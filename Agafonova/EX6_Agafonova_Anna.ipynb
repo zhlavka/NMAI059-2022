{
 "cells": [
  {
   "cell_type": "markdown",
   "id": "d5d29f58",
   "metadata": {},
   "source": [
    "# Titanic survival chances"
   ]
  },
  {
   "cell_type": "markdown",
   "id": "f29dfef3",
   "metadata": {},
   "source": [
    "The dataset is downloaded from https://www.kaggle.com/competitions/titanic/overview challenge. The aim of the challenge is to show how socio-economic factors affected people's chances on survival.  "
   ]
  },
  {
   "cell_type": "code",
   "execution_count": 15,
   "id": "6e594410",
   "metadata": {},
   "outputs": [],
   "source": [
    "training.data.raw = read.csv('titanic/train.csv',header=T,na.strings=c(\"\"))"
   ]
  },
  {
   "cell_type": "code",
   "execution_count": 3,
   "id": "5bac3ed9",
   "metadata": {},
   "outputs": [
    {
     "data": {
      "text/html": [
       "<table class=\"dataframe\">\n",
       "<caption>A data.frame: 6 × 12</caption>\n",
       "<thead>\n",
       "\t<tr><th></th><th scope=col>PassengerId</th><th scope=col>Survived</th><th scope=col>Pclass</th><th scope=col>Name</th><th scope=col>Sex</th><th scope=col>Age</th><th scope=col>SibSp</th><th scope=col>Parch</th><th scope=col>Ticket</th><th scope=col>Fare</th><th scope=col>Cabin</th><th scope=col>Embarked</th></tr>\n",
       "\t<tr><th></th><th scope=col>&lt;int&gt;</th><th scope=col>&lt;int&gt;</th><th scope=col>&lt;int&gt;</th><th scope=col>&lt;chr&gt;</th><th scope=col>&lt;chr&gt;</th><th scope=col>&lt;dbl&gt;</th><th scope=col>&lt;int&gt;</th><th scope=col>&lt;int&gt;</th><th scope=col>&lt;chr&gt;</th><th scope=col>&lt;dbl&gt;</th><th scope=col>&lt;chr&gt;</th><th scope=col>&lt;chr&gt;</th></tr>\n",
       "</thead>\n",
       "<tbody>\n",
       "\t<tr><th scope=row>1</th><td>1</td><td>0</td><td>3</td><td>Braund, Mr. Owen Harris                            </td><td>male  </td><td>22</td><td>1</td><td>0</td><td>A/5 21171       </td><td> 7.2500</td><td>NA  </td><td>S</td></tr>\n",
       "\t<tr><th scope=row>2</th><td>2</td><td>1</td><td>1</td><td>Cumings, Mrs. John Bradley (Florence Briggs Thayer)</td><td>female</td><td>38</td><td>1</td><td>0</td><td>PC 17599        </td><td>71.2833</td><td>C85 </td><td>C</td></tr>\n",
       "\t<tr><th scope=row>3</th><td>3</td><td>1</td><td>3</td><td>Heikkinen, Miss. Laina                             </td><td>female</td><td>26</td><td>0</td><td>0</td><td>STON/O2. 3101282</td><td> 7.9250</td><td>NA  </td><td>S</td></tr>\n",
       "\t<tr><th scope=row>4</th><td>4</td><td>1</td><td>1</td><td>Futrelle, Mrs. Jacques Heath (Lily May Peel)       </td><td>female</td><td>35</td><td>1</td><td>0</td><td>113803          </td><td>53.1000</td><td>C123</td><td>S</td></tr>\n",
       "\t<tr><th scope=row>5</th><td>5</td><td>0</td><td>3</td><td>Allen, Mr. William Henry                           </td><td>male  </td><td>35</td><td>0</td><td>0</td><td>373450          </td><td> 8.0500</td><td>NA  </td><td>S</td></tr>\n",
       "\t<tr><th scope=row>6</th><td>6</td><td>0</td><td>3</td><td>Moran, Mr. James                                   </td><td>male  </td><td>NA</td><td>0</td><td>0</td><td>330877          </td><td> 8.4583</td><td>NA  </td><td>Q</td></tr>\n",
       "</tbody>\n",
       "</table>\n"
      ],
      "text/latex": [
       "A data.frame: 6 × 12\n",
       "\\begin{tabular}{r|llllllllllll}\n",
       "  & PassengerId & Survived & Pclass & Name & Sex & Age & SibSp & Parch & Ticket & Fare & Cabin & Embarked\\\\\n",
       "  & <int> & <int> & <int> & <chr> & <chr> & <dbl> & <int> & <int> & <chr> & <dbl> & <chr> & <chr>\\\\\n",
       "\\hline\n",
       "\t1 & 1 & 0 & 3 & Braund, Mr. Owen Harris                             & male   & 22 & 1 & 0 & A/5 21171        &  7.2500 & NA   & S\\\\\n",
       "\t2 & 2 & 1 & 1 & Cumings, Mrs. John Bradley (Florence Briggs Thayer) & female & 38 & 1 & 0 & PC 17599         & 71.2833 & C85  & C\\\\\n",
       "\t3 & 3 & 1 & 3 & Heikkinen, Miss. Laina                              & female & 26 & 0 & 0 & STON/O2. 3101282 &  7.9250 & NA   & S\\\\\n",
       "\t4 & 4 & 1 & 1 & Futrelle, Mrs. Jacques Heath (Lily May Peel)        & female & 35 & 1 & 0 & 113803           & 53.1000 & C123 & S\\\\\n",
       "\t5 & 5 & 0 & 3 & Allen, Mr. William Henry                            & male   & 35 & 0 & 0 & 373450           &  8.0500 & NA   & S\\\\\n",
       "\t6 & 6 & 0 & 3 & Moran, Mr. James                                    & male   & NA & 0 & 0 & 330877           &  8.4583 & NA   & Q\\\\\n",
       "\\end{tabular}\n"
      ],
      "text/markdown": [
       "\n",
       "A data.frame: 6 × 12\n",
       "\n",
       "| <!--/--> | PassengerId &lt;int&gt; | Survived &lt;int&gt; | Pclass &lt;int&gt; | Name &lt;chr&gt; | Sex &lt;chr&gt; | Age &lt;dbl&gt; | SibSp &lt;int&gt; | Parch &lt;int&gt; | Ticket &lt;chr&gt; | Fare &lt;dbl&gt; | Cabin &lt;chr&gt; | Embarked &lt;chr&gt; |\n",
       "|---|---|---|---|---|---|---|---|---|---|---|---|---|\n",
       "| 1 | 1 | 0 | 3 | Braund, Mr. Owen Harris                             | male   | 22 | 1 | 0 | A/5 21171        |  7.2500 | NA   | S |\n",
       "| 2 | 2 | 1 | 1 | Cumings, Mrs. John Bradley (Florence Briggs Thayer) | female | 38 | 1 | 0 | PC 17599         | 71.2833 | C85  | C |\n",
       "| 3 | 3 | 1 | 3 | Heikkinen, Miss. Laina                              | female | 26 | 0 | 0 | STON/O2. 3101282 |  7.9250 | NA   | S |\n",
       "| 4 | 4 | 1 | 1 | Futrelle, Mrs. Jacques Heath (Lily May Peel)        | female | 35 | 1 | 0 | 113803           | 53.1000 | C123 | S |\n",
       "| 5 | 5 | 0 | 3 | Allen, Mr. William Henry                            | male   | 35 | 0 | 0 | 373450           |  8.0500 | NA   | S |\n",
       "| 6 | 6 | 0 | 3 | Moran, Mr. James                                    | male   | NA | 0 | 0 | 330877           |  8.4583 | NA   | Q |\n",
       "\n"
      ],
      "text/plain": [
       "  PassengerId Survived Pclass\n",
       "1 1           0        3     \n",
       "2 2           1        1     \n",
       "3 3           1        3     \n",
       "4 4           1        1     \n",
       "5 5           0        3     \n",
       "6 6           0        3     \n",
       "  Name                                                Sex    Age SibSp Parch\n",
       "1 Braund, Mr. Owen Harris                             male   22  1     0    \n",
       "2 Cumings, Mrs. John Bradley (Florence Briggs Thayer) female 38  1     0    \n",
       "3 Heikkinen, Miss. Laina                              female 26  0     0    \n",
       "4 Futrelle, Mrs. Jacques Heath (Lily May Peel)        female 35  1     0    \n",
       "5 Allen, Mr. William Henry                            male   35  0     0    \n",
       "6 Moran, Mr. James                                    male   NA  0     0    \n",
       "  Ticket           Fare    Cabin Embarked\n",
       "1 A/5 21171         7.2500 NA    S       \n",
       "2 PC 17599         71.2833 C85   C       \n",
       "3 STON/O2. 3101282  7.9250 NA    S       \n",
       "4 113803           53.1000 C123  S       \n",
       "5 373450            8.0500 NA    S       \n",
       "6 330877            8.4583 NA    Q       "
      ]
     },
     "metadata": {},
     "output_type": "display_data"
    }
   ],
   "source": [
    "head(training.data.raw)"
   ]
  },
  {
   "cell_type": "markdown",
   "id": "511e85cb",
   "metadata": {},
   "source": [
    "In the dataset some data are not adding any value, such as passenger ID, ticket number and cabin (since it is mostly unavailable)"
   ]
  },
  {
   "cell_type": "code",
   "execution_count": 4,
   "id": "eee955f2",
   "metadata": {},
   "outputs": [],
   "source": [
    "data = subset(training.data.raw,select=c(2,3,5,6,7,8,10,12))"
   ]
  },
  {
   "cell_type": "code",
   "execution_count": 5,
   "id": "f8004576",
   "metadata": {},
   "outputs": [
    {
     "data": {
      "text/html": [
       "<table class=\"dataframe\">\n",
       "<caption>A data.frame: 6 × 8</caption>\n",
       "<thead>\n",
       "\t<tr><th></th><th scope=col>Survived</th><th scope=col>Pclass</th><th scope=col>Sex</th><th scope=col>Age</th><th scope=col>SibSp</th><th scope=col>Parch</th><th scope=col>Fare</th><th scope=col>Embarked</th></tr>\n",
       "\t<tr><th></th><th scope=col>&lt;int&gt;</th><th scope=col>&lt;int&gt;</th><th scope=col>&lt;chr&gt;</th><th scope=col>&lt;dbl&gt;</th><th scope=col>&lt;int&gt;</th><th scope=col>&lt;int&gt;</th><th scope=col>&lt;dbl&gt;</th><th scope=col>&lt;chr&gt;</th></tr>\n",
       "</thead>\n",
       "<tbody>\n",
       "\t<tr><th scope=row>1</th><td>0</td><td>3</td><td>male  </td><td>22</td><td>1</td><td>0</td><td> 7.2500</td><td>S</td></tr>\n",
       "\t<tr><th scope=row>2</th><td>1</td><td>1</td><td>female</td><td>38</td><td>1</td><td>0</td><td>71.2833</td><td>C</td></tr>\n",
       "\t<tr><th scope=row>3</th><td>1</td><td>3</td><td>female</td><td>26</td><td>0</td><td>0</td><td> 7.9250</td><td>S</td></tr>\n",
       "\t<tr><th scope=row>4</th><td>1</td><td>1</td><td>female</td><td>35</td><td>1</td><td>0</td><td>53.1000</td><td>S</td></tr>\n",
       "\t<tr><th scope=row>5</th><td>0</td><td>3</td><td>male  </td><td>35</td><td>0</td><td>0</td><td> 8.0500</td><td>S</td></tr>\n",
       "\t<tr><th scope=row>6</th><td>0</td><td>3</td><td>male  </td><td>NA</td><td>0</td><td>0</td><td> 8.4583</td><td>Q</td></tr>\n",
       "</tbody>\n",
       "</table>\n"
      ],
      "text/latex": [
       "A data.frame: 6 × 8\n",
       "\\begin{tabular}{r|llllllll}\n",
       "  & Survived & Pclass & Sex & Age & SibSp & Parch & Fare & Embarked\\\\\n",
       "  & <int> & <int> & <chr> & <dbl> & <int> & <int> & <dbl> & <chr>\\\\\n",
       "\\hline\n",
       "\t1 & 0 & 3 & male   & 22 & 1 & 0 &  7.2500 & S\\\\\n",
       "\t2 & 1 & 1 & female & 38 & 1 & 0 & 71.2833 & C\\\\\n",
       "\t3 & 1 & 3 & female & 26 & 0 & 0 &  7.9250 & S\\\\\n",
       "\t4 & 1 & 1 & female & 35 & 1 & 0 & 53.1000 & S\\\\\n",
       "\t5 & 0 & 3 & male   & 35 & 0 & 0 &  8.0500 & S\\\\\n",
       "\t6 & 0 & 3 & male   & NA & 0 & 0 &  8.4583 & Q\\\\\n",
       "\\end{tabular}\n"
      ],
      "text/markdown": [
       "\n",
       "A data.frame: 6 × 8\n",
       "\n",
       "| <!--/--> | Survived &lt;int&gt; | Pclass &lt;int&gt; | Sex &lt;chr&gt; | Age &lt;dbl&gt; | SibSp &lt;int&gt; | Parch &lt;int&gt; | Fare &lt;dbl&gt; | Embarked &lt;chr&gt; |\n",
       "|---|---|---|---|---|---|---|---|---|\n",
       "| 1 | 0 | 3 | male   | 22 | 1 | 0 |  7.2500 | S |\n",
       "| 2 | 1 | 1 | female | 38 | 1 | 0 | 71.2833 | C |\n",
       "| 3 | 1 | 3 | female | 26 | 0 | 0 |  7.9250 | S |\n",
       "| 4 | 1 | 1 | female | 35 | 1 | 0 | 53.1000 | S |\n",
       "| 5 | 0 | 3 | male   | 35 | 0 | 0 |  8.0500 | S |\n",
       "| 6 | 0 | 3 | male   | NA | 0 | 0 |  8.4583 | Q |\n",
       "\n"
      ],
      "text/plain": [
       "  Survived Pclass Sex    Age SibSp Parch Fare    Embarked\n",
       "1 0        3      male   22  1     0      7.2500 S       \n",
       "2 1        1      female 38  1     0     71.2833 C       \n",
       "3 1        3      female 26  0     0      7.9250 S       \n",
       "4 1        1      female 35  1     0     53.1000 S       \n",
       "5 0        3      male   35  0     0      8.0500 S       \n",
       "6 0        3      male   NA  0     0      8.4583 Q       "
      ]
     },
     "metadata": {},
     "output_type": "display_data"
    }
   ],
   "source": [
    "head(data)"
   ]
  },
  {
   "cell_type": "markdown",
   "id": "3db18258",
   "metadata": {},
   "source": [
    "If for some variables the information is not available we will delete the whole observation (person) from the dataset."
   ]
  },
  {
   "cell_type": "code",
   "execution_count": 11,
   "id": "6a8b8e28",
   "metadata": {},
   "outputs": [],
   "source": [
    "data = data[!is.na(data$Age),]"
   ]
  },
  {
   "cell_type": "code",
   "execution_count": 18,
   "id": "96db2f3a",
   "metadata": {
    "scrolled": true
   },
   "outputs": [
    {
     "data": {
      "text/html": [
       "<table class=\"dataframe\">\n",
       "<caption>A data.frame: 6 × 8</caption>\n",
       "<thead>\n",
       "\t<tr><th></th><th scope=col>Survived</th><th scope=col>Pclass</th><th scope=col>Sex</th><th scope=col>Age</th><th scope=col>SibSp</th><th scope=col>Parch</th><th scope=col>Fare</th><th scope=col>Embarked</th></tr>\n",
       "\t<tr><th></th><th scope=col>&lt;int&gt;</th><th scope=col>&lt;int&gt;</th><th scope=col>&lt;chr&gt;</th><th scope=col>&lt;dbl&gt;</th><th scope=col>&lt;int&gt;</th><th scope=col>&lt;int&gt;</th><th scope=col>&lt;dbl&gt;</th><th scope=col>&lt;chr&gt;</th></tr>\n",
       "</thead>\n",
       "<tbody>\n",
       "\t<tr><th scope=row>1</th><td>0</td><td>3</td><td>male  </td><td>22</td><td>1</td><td>0</td><td> 7.2500</td><td>S</td></tr>\n",
       "\t<tr><th scope=row>2</th><td>1</td><td>1</td><td>female</td><td>38</td><td>1</td><td>0</td><td>71.2833</td><td>C</td></tr>\n",
       "\t<tr><th scope=row>3</th><td>1</td><td>3</td><td>female</td><td>26</td><td>0</td><td>0</td><td> 7.9250</td><td>S</td></tr>\n",
       "\t<tr><th scope=row>4</th><td>1</td><td>1</td><td>female</td><td>35</td><td>1</td><td>0</td><td>53.1000</td><td>S</td></tr>\n",
       "\t<tr><th scope=row>5</th><td>0</td><td>3</td><td>male  </td><td>35</td><td>0</td><td>0</td><td> 8.0500</td><td>S</td></tr>\n",
       "\t<tr><th scope=row>7</th><td>0</td><td>1</td><td>male  </td><td>54</td><td>0</td><td>0</td><td>51.8625</td><td>S</td></tr>\n",
       "</tbody>\n",
       "</table>\n"
      ],
      "text/latex": [
       "A data.frame: 6 × 8\n",
       "\\begin{tabular}{r|llllllll}\n",
       "  & Survived & Pclass & Sex & Age & SibSp & Parch & Fare & Embarked\\\\\n",
       "  & <int> & <int> & <chr> & <dbl> & <int> & <int> & <dbl> & <chr>\\\\\n",
       "\\hline\n",
       "\t1 & 0 & 3 & male   & 22 & 1 & 0 &  7.2500 & S\\\\\n",
       "\t2 & 1 & 1 & female & 38 & 1 & 0 & 71.2833 & C\\\\\n",
       "\t3 & 1 & 3 & female & 26 & 0 & 0 &  7.9250 & S\\\\\n",
       "\t4 & 1 & 1 & female & 35 & 1 & 0 & 53.1000 & S\\\\\n",
       "\t5 & 0 & 3 & male   & 35 & 0 & 0 &  8.0500 & S\\\\\n",
       "\t7 & 0 & 1 & male   & 54 & 0 & 0 & 51.8625 & S\\\\\n",
       "\\end{tabular}\n"
      ],
      "text/markdown": [
       "\n",
       "A data.frame: 6 × 8\n",
       "\n",
       "| <!--/--> | Survived &lt;int&gt; | Pclass &lt;int&gt; | Sex &lt;chr&gt; | Age &lt;dbl&gt; | SibSp &lt;int&gt; | Parch &lt;int&gt; | Fare &lt;dbl&gt; | Embarked &lt;chr&gt; |\n",
       "|---|---|---|---|---|---|---|---|---|\n",
       "| 1 | 0 | 3 | male   | 22 | 1 | 0 |  7.2500 | S |\n",
       "| 2 | 1 | 1 | female | 38 | 1 | 0 | 71.2833 | C |\n",
       "| 3 | 1 | 3 | female | 26 | 0 | 0 |  7.9250 | S |\n",
       "| 4 | 1 | 1 | female | 35 | 1 | 0 | 53.1000 | S |\n",
       "| 5 | 0 | 3 | male   | 35 | 0 | 0 |  8.0500 | S |\n",
       "| 7 | 0 | 1 | male   | 54 | 0 | 0 | 51.8625 | S |\n",
       "\n"
      ],
      "text/plain": [
       "  Survived Pclass Sex    Age SibSp Parch Fare    Embarked\n",
       "1 0        3      male   22  1     0      7.2500 S       \n",
       "2 1        1      female 38  1     0     71.2833 C       \n",
       "3 1        3      female 26  0     0      7.9250 S       \n",
       "4 1        1      female 35  1     0     53.1000 S       \n",
       "5 0        3      male   35  0     0      8.0500 S       \n",
       "7 0        1      male   54  0     0     51.8625 S       "
      ]
     },
     "metadata": {},
     "output_type": "display_data"
    }
   ],
   "source": [
    "head(data)"
   ]
  },
  {
   "cell_type": "code",
   "execution_count": 33,
   "id": "c60bf787",
   "metadata": {},
   "outputs": [],
   "source": [
    "model <- glm(Survived ~.,family=binomial(link='logit'),data=train)"
   ]
  },
  {
   "cell_type": "code",
   "execution_count": 34,
   "id": "82c7679f",
   "metadata": {},
   "outputs": [
    {
     "data": {
      "text/plain": [
       "\n",
       "Call:\n",
       "glm(formula = Survived ~ ., family = binomial(link = \"logit\"), \n",
       "    data = train)\n",
       "\n",
       "Deviance Residuals: \n",
       "    Min       1Q   Median       3Q      Max  \n",
       "-2.5158  -0.6801  -0.4074   0.6606   2.3633  \n",
       "\n",
       "Coefficients:\n",
       "             Estimate Std. Error z value Pr(>|z|)    \n",
       "(Intercept)  5.345257   0.753459   7.094 1.30e-12 ***\n",
       "Pclass      -1.169753   0.197854  -5.912 3.38e-09 ***\n",
       "Sexmale     -2.572852   0.252995 -10.170  < 2e-16 ***\n",
       "Age         -0.037345   0.009522  -3.922 8.78e-05 ***\n",
       "SibSp       -0.325724   0.145692  -2.236   0.0254 *  \n",
       "Parch        0.030460   0.155554   0.196   0.8448    \n",
       "Fare        -0.002806   0.003214  -0.873   0.3826    \n",
       "EmbarkedQ    0.090597   0.703403   0.129   0.8975    \n",
       "EmbarkedS   -0.289313   0.320178  -0.904   0.3662    \n",
       "---\n",
       "Signif. codes:  0 ‘***’ 0.001 ‘**’ 0.01 ‘*’ 0.05 ‘.’ 0.1 ‘ ’ 1\n",
       "\n",
       "(Dispersion parameter for binomial family taken to be 1)\n",
       "\n",
       "    Null deviance: 676.51  on 498  degrees of freedom\n",
       "Residual deviance: 460.37  on 490  degrees of freedom\n",
       "  (1 observation deleted due to missingness)\n",
       "AIC: 478.37\n",
       "\n",
       "Number of Fisher Scoring iterations: 4\n"
      ]
     },
     "metadata": {},
     "output_type": "display_data"
    }
   ],
   "source": [
    "summary(model)"
   ]
  },
  {
   "cell_type": "code",
   "execution_count": 35,
   "id": "4b7d8447",
   "metadata": {},
   "outputs": [
    {
     "data": {
      "text/html": [
       "<table class=\"dataframe\">\n",
       "<caption>A anova: 8 × 5</caption>\n",
       "<thead>\n",
       "\t<tr><th></th><th scope=col>Df</th><th scope=col>Deviance</th><th scope=col>Resid. Df</th><th scope=col>Resid. Dev</th><th scope=col>Pr(&gt;Chi)</th></tr>\n",
       "\t<tr><th></th><th scope=col>&lt;int&gt;</th><th scope=col>&lt;dbl&gt;</th><th scope=col>&lt;int&gt;</th><th scope=col>&lt;dbl&gt;</th><th scope=col>&lt;dbl&gt;</th></tr>\n",
       "</thead>\n",
       "<tbody>\n",
       "\t<tr><th scope=row>NULL</th><td>NA</td><td>          NA</td><td>498</td><td>676.5148</td><td>          NA</td></tr>\n",
       "\t<tr><th scope=row>Pclass</th><td> 1</td><td>5.262872e+01</td><td>497</td><td>623.8860</td><td>4.029530e-13</td></tr>\n",
       "\t<tr><th scope=row>Sex</th><td> 1</td><td>1.430296e+02</td><td>496</td><td>480.8565</td><td>5.791162e-33</td></tr>\n",
       "\t<tr><th scope=row>Age</th><td> 1</td><td>1.211770e+01</td><td>495</td><td>468.7388</td><td>4.994545e-04</td></tr>\n",
       "\t<tr><th scope=row>SibSp</th><td> 1</td><td>6.824300e+00</td><td>494</td><td>461.9145</td><td>8.992578e-03</td></tr>\n",
       "\t<tr><th scope=row>Parch</th><td> 1</td><td>7.126414e-03</td><td>493</td><td>461.9073</td><td>9.327240e-01</td></tr>\n",
       "\t<tr><th scope=row>Fare</th><td> 1</td><td>4.489323e-01</td><td>492</td><td>461.4584</td><td>5.028424e-01</td></tr>\n",
       "\t<tr><th scope=row>Embarked</th><td> 2</td><td>1.088529e+00</td><td>490</td><td>460.3699</td><td>5.802683e-01</td></tr>\n",
       "</tbody>\n",
       "</table>\n"
      ],
      "text/latex": [
       "A anova: 8 × 5\n",
       "\\begin{tabular}{r|lllll}\n",
       "  & Df & Deviance & Resid. Df & Resid. Dev & Pr(>Chi)\\\\\n",
       "  & <int> & <dbl> & <int> & <dbl> & <dbl>\\\\\n",
       "\\hline\n",
       "\tNULL & NA &           NA & 498 & 676.5148 &           NA\\\\\n",
       "\tPclass &  1 & 5.262872e+01 & 497 & 623.8860 & 4.029530e-13\\\\\n",
       "\tSex &  1 & 1.430296e+02 & 496 & 480.8565 & 5.791162e-33\\\\\n",
       "\tAge &  1 & 1.211770e+01 & 495 & 468.7388 & 4.994545e-04\\\\\n",
       "\tSibSp &  1 & 6.824300e+00 & 494 & 461.9145 & 8.992578e-03\\\\\n",
       "\tParch &  1 & 7.126414e-03 & 493 & 461.9073 & 9.327240e-01\\\\\n",
       "\tFare &  1 & 4.489323e-01 & 492 & 461.4584 & 5.028424e-01\\\\\n",
       "\tEmbarked &  2 & 1.088529e+00 & 490 & 460.3699 & 5.802683e-01\\\\\n",
       "\\end{tabular}\n"
      ],
      "text/markdown": [
       "\n",
       "A anova: 8 × 5\n",
       "\n",
       "| <!--/--> | Df &lt;int&gt; | Deviance &lt;dbl&gt; | Resid. Df &lt;int&gt; | Resid. Dev &lt;dbl&gt; | Pr(&gt;Chi) &lt;dbl&gt; |\n",
       "|---|---|---|---|---|---|\n",
       "| NULL | NA |           NA | 498 | 676.5148 |           NA |\n",
       "| Pclass |  1 | 5.262872e+01 | 497 | 623.8860 | 4.029530e-13 |\n",
       "| Sex |  1 | 1.430296e+02 | 496 | 480.8565 | 5.791162e-33 |\n",
       "| Age |  1 | 1.211770e+01 | 495 | 468.7388 | 4.994545e-04 |\n",
       "| SibSp |  1 | 6.824300e+00 | 494 | 461.9145 | 8.992578e-03 |\n",
       "| Parch |  1 | 7.126414e-03 | 493 | 461.9073 | 9.327240e-01 |\n",
       "| Fare |  1 | 4.489323e-01 | 492 | 461.4584 | 5.028424e-01 |\n",
       "| Embarked |  2 | 1.088529e+00 | 490 | 460.3699 | 5.802683e-01 |\n",
       "\n"
      ],
      "text/plain": [
       "         Df Deviance     Resid. Df Resid. Dev Pr(>Chi)    \n",
       "NULL     NA           NA 498       676.5148             NA\n",
       "Pclass    1 5.262872e+01 497       623.8860   4.029530e-13\n",
       "Sex       1 1.430296e+02 496       480.8565   5.791162e-33\n",
       "Age       1 1.211770e+01 495       468.7388   4.994545e-04\n",
       "SibSp     1 6.824300e+00 494       461.9145   8.992578e-03\n",
       "Parch     1 7.126414e-03 493       461.9073   9.327240e-01\n",
       "Fare      1 4.489323e-01 492       461.4584   5.028424e-01\n",
       "Embarked  2 1.088529e+00 490       460.3699   5.802683e-01"
      ]
     },
     "metadata": {},
     "output_type": "display_data"
    }
   ],
   "source": [
    "anova(model, test=\"Chisq\")"
   ]
  }
 ],
 "metadata": {
  "kernelspec": {
   "display_name": "R",
   "language": "R",
   "name": "ir"
  },
  "language_info": {
   "codemirror_mode": "r",
   "file_extension": ".r",
   "mimetype": "text/x-r-source",
   "name": "R",
   "pygments_lexer": "r",
   "version": "4.0.5"
  }
 },
 "nbformat": 4,
 "nbformat_minor": 5
}
