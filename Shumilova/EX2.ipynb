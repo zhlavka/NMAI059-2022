{
 "cells": [
  {
   "cell_type": "markdown",
   "id": "6983fca7",
   "metadata": {},
   "source": [
    "# Chi-squared rozdeleni $\\chi^2(k)$\n",
    "\n",
    "Rozdeleni chi-squared s parametrem $k$ je rozdeleni definovane jako suma ctvercu $k$ nezavislych standardne normalnych nahodych velicin:\n",
    "\n",
    "$$Q = \\sum_{i = 1}Z_i^2.$$\n",
    "\n",
    "Pomoci momentove metody budeme odhadovat parametr $k$.\n",
    "Protoze mame jenom jeden parametr, bude nam bude stacit jenom prvni moment $\\mu \\equiv {\\rm E}[Q] = g(k) = k$. Predpokladejme, ze mame $n$ vzorku s hodnotami $x_1,\\dots,x_n$ a necht $$\\widehat{\\mu} = \\frac{1}{n} \\sum_{1}^nx_i.$$ je prvni sample moment (sample mean). Estimator $\\widehat{k}$ pro parameter $k$ dany momentovou metodou je resenim (v tomhle pripade) jedne rovnice:\n",
    "$$\\widehat{\\mu} = g(\\widehat{k}) = \\widehat{k}.$$\n",
    "\n",
    "Jinymi slovy, momentova metoda nam dava estimator\n",
    "$$\\widehat{k} = \\frac{1}{n} \\sum_{1}^nX_i,$$\n",
    "kde $X_i$ jsou z rodeleni chi-squared.\n",
    "\n"
   ]
  },
  {
   "cell_type": "code",
   "execution_count": 1,
   "id": "e65e493e",
   "metadata": {},
   "outputs": [],
   "source": [
    "import numpy as np\n",
    "\n",
    "def estimate_chisquare(k = 2, sample_size = 100000):\n",
    "    sample_mean = 0\n",
    "    for i in range(sample_size):\n",
    "        x = np.random.chisquare(k)\n",
    "        sample_mean += x\n",
    "    sample_mean /= sample_size\n",
    "    return sample_mean"
   ]
  },
  {
   "cell_type": "code",
   "execution_count": 2,
   "id": "36358808",
   "metadata": {},
   "outputs": [
    {
     "data": {
      "text/plain": [
       "2.006987866371571"
      ]
     },
     "execution_count": 2,
     "metadata": {},
     "output_type": "execute_result"
    }
   ],
   "source": [
    "estimate_chisquare(2)"
   ]
  },
  {
   "cell_type": "code",
   "execution_count": 3,
   "id": "664b4e81",
   "metadata": {},
   "outputs": [
    {
     "data": {
      "text/plain": [
       "3.0008170599900845"
      ]
     },
     "execution_count": 3,
     "metadata": {},
     "output_type": "execute_result"
    }
   ],
   "source": [
    "estimate_chisquare(3)"
   ]
  },
  {
   "cell_type": "code",
   "execution_count": 4,
   "id": "d7ab833d",
   "metadata": {},
   "outputs": [
    {
     "data": {
      "text/plain": [
       "9.996025462036357"
      ]
     },
     "execution_count": 4,
     "metadata": {},
     "output_type": "execute_result"
    }
   ],
   "source": [
    "estimate_chisquare(10)"
   ]
  },
  {
   "cell_type": "markdown",
   "id": "58ea309b",
   "metadata": {},
   "source": [
    "Vidime, ze momentova metoda nam dava celkem dobre odhady parametru.\n",
    "Ted budeme opakovat funkci `estimate_chisquare` pro hodnotu `k = 2` a vysledek znazornime v histogramu.\n",
    "Tim ziskame rozdeleni nahodne veliciny $\\widehat{k}$. Vysledek muzeme znozornit pomoci histogramu."
   ]
  },
  {
   "cell_type": "code",
   "execution_count": 5,
   "id": "9e9a2343",
   "metadata": {},
   "outputs": [],
   "source": [
    "def chisquare_estimator_distribution(sample_size = 100000):\n",
    "    dist = []\n",
    "    for i in range(sample_size):\n",
    "        dist.append(estimate_chisquare(2))\n",
    "    return np.array(dist)"
   ]
  },
  {
   "cell_type": "code",
   "execution_count": 6,
   "id": "25681c0e",
   "metadata": {},
   "outputs": [
    {
     "data": {
      "image/png": "[encoded data removed]",
      "text/plain": [
       "<Figure size 432x288 with 1 Axes>"
      ]
     },
     "metadata": {
      "needs_background": "light"
     },
     "output_type": "display_data"
    }
   ],
   "source": [
    "import matplotlib.pyplot as plt\n",
    "\n",
    "fig, ax = plt.subplots()\n",
    "number_of_simulations = 1000\n",
    "estimates = chisquare_estimator_distribution(number_of_simulations)\n",
    "ax.hist(estimates)\n",
    "plt.show()"
   ]
  },
  {
   "cell_type": "code",
   "execution_count": 7,
   "id": "def6f881",
   "metadata": {},
   "outputs": [],
   "source": [
    "import math\n",
    "import scipy.stats as stats\n",
    "\n",
    "def confidance_intervals(estimates, number_of_simulations, alpha=0.975):\n",
    "    low = estimates - stats.norm.ppf(alpha) * estimates/math.sqrt(number_of_simulations)\n",
    "    high = estimates + stats.norm.ppf(alpha) * estimates/math.sqrt(number_of_simulations)\n",
    "    \n",
    "    return (low, high)"
   ]
  },
  {
   "cell_type": "markdown",
   "id": "67dd48de",
   "metadata": {},
   "source": [
    "Ted spocteme konfidencni intervaly:"
   ]
  },
  {
   "cell_type": "code",
   "execution_count": 8,
   "id": "1538caf6",
   "metadata": {},
   "outputs": [],
   "source": [
    "low, high = confidance_intervals(estimates, number_of_simulations)"
   ]
  },
  {
   "cell_type": "markdown",
   "id": "69dd5239",
   "metadata": {},
   "source": [
    "Dostali sme presne `number_of_simulations` konfidencnich intervalu.\n",
    "Pro kazdy `estimates[i]` mame konfidencni interval `(low[i], high[i])`.\n",
    "Ted skontolujeme kolik z techle intervalu obsahuji hodnotu `k = 2`."
   ]
  },
  {
   "cell_type": "code",
   "execution_count": 10,
   "id": "a15e3f67",
   "metadata": {},
   "outputs": [
    {
     "name": "stdout",
     "output_type": "stream",
     "text": [
      "1000\n"
     ]
    }
   ],
   "source": [
    "count = 0\n",
    "for i in range(len(low)):\n",
    "    if low[i] <= 2 <= high[i]:\n",
    "        count += 1\n",
    "print(count)"
   ]
  },
  {
   "cell_type": "code",
   "execution_count": null,
   "id": "214d0dd1",
   "metadata": {},
   "outputs": [],
   "source": []
  }
 ],
 "metadata": {
  "kernelspec": {
   "display_name": "Python 3 (ipykernel)",
   "language": "python",
   "name": "python3"
  },
  "language_info": {
   "codemirror_mode": {
    "name": "ipython",
    "version": 3
   },
   "file_extension": ".py",
   "mimetype": "text/x-python",
   "name": "python",
   "nbconvert_exporter": "python",
   "pygments_lexer": "ipython3",
   "version": "3.9.7"
  }
 },
 "nbformat": 4,
 "nbformat_minor": 5
}
